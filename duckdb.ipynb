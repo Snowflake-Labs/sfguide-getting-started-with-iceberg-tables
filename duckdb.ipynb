{
 "cells": [
  {
   "cell_type": "code",
   "execution_count": null,
   "id": "5586989f-0b7c-4eef-968a-3546c93510d9",
   "metadata": {},
   "outputs": [],
   "source": [
    "import duckdb\n",
    "import pandas as pd\n",
    "\n",
    "conn = duckdb.connect()"
   ]
  },
  {
   "cell_type": "code",
   "execution_count": null,
   "id": "c3e20ce4-38b1-461b-a2ea-5a3714e5a84e",
   "metadata": {},
   "outputs": [],
   "source": [
    "# Get your Iceberg snapshot location running this query in Snowflake:\n",
    "# SELECT PARSE_JSON(SYSTEM$GET_ICEBERG_TABLE_INFORMATION('CUSTOMER_ICEBERG'))['metadataLocation']::varchar;\n",
    "# Then paste the output below.\n",
    "snapshot_path = '<paste output from Snowflake here>'"
   ]
  },
  {
   "cell_type": "markdown",
   "id": "0d0564d3-3538-4803-a7fd-2f4c56af947d",
   "metadata": {},
   "source": [
    "# Connecting to Cloud Storage"
   ]
  },
  {
   "cell_type": "markdown",
   "id": "4a3f7651-047f-42c0-a9b3-b8d170b2cdb2",
   "metadata": {},
   "source": [
    "## Amazon S3"
   ]
  },
  {
   "cell_type": "code",
   "execution_count": null,
   "id": "8fad35dd-4a75-4b53-80af-e25f3ae9cc2d",
   "metadata": {},
   "outputs": [],
   "source": [
    "aws_access_key_id = '<your AWS access key ID>'\n",
    "aws_secret_access_key = '<your AWS secret access key>'\n",
    "aws_s3_region = '<your s3 region>'"
   ]
  },
  {
   "cell_type": "code",
   "execution_count": null,
   "id": "1f395d86-f28a-4cfa-a1e6-b3f49b8b99da",
   "metadata": {},
   "outputs": [],
   "source": [
    "conn.sql(f\"\"\"\n",
    "    CREATE OR REPLACE SECRET s3_credentials (\n",
    "        TYPE s3,\n",
    "        KEY_ID '{aws_access_key_id}',\n",
    "        SECRET '{aws_secret_access_key}',\n",
    "        REGION '{aws_s3_region}'\n",
    "        );\n",
    "\"\"\")\n"
   ]
  },
  {
   "cell_type": "markdown",
   "id": "d83b89b8-abd0-4c9f-a0a7-0a3cca53674e",
   "metadata": {},
   "source": [
    "## Google Cloud Storage"
   ]
  },
  {
   "cell_type": "code",
   "execution_count": null,
   "id": "5c387571-1903-4c6a-af0f-bb855b5e2842",
   "metadata": {},
   "outputs": [],
   "source": [
    "gcs_hmac_key_id = '<your HMAC key ID>'\n",
    "gcs_hmac_secret = '<your HMAC secret>'"
   ]
  },
  {
   "cell_type": "code",
   "execution_count": null,
   "id": "4d67177f-9d37-4638-bac9-825e9e04a463",
   "metadata": {},
   "outputs": [],
   "source": [
    "conn.sql(f\"\"\"\n",
    "    CREATE OR REPLACE SECRET gcs_credentials (\n",
    "        TYPE gcs,\n",
    "        KEY_ID '{gcs_hmac_key_id}',\n",
    "        SECRET '{gcs_hmac_secret}'\n",
    "        );\n",
    "\"\"\")"
   ]
  },
  {
   "cell_type": "markdown",
   "id": "bc30ec89-170e-41f1-bd43-775041298e87",
   "metadata": {},
   "source": [
    "## Microsoft Azure\n",
    "The Azure Extension for DuckDB is broken at the time of authoring this notebook: https://github.com/duckdb/duckdb-iceberg/issues/66"
   ]
  },
  {
   "cell_type": "markdown",
   "id": "d611be04-0bae-4c74-abcc-853e0c12cf94",
   "metadata": {},
   "source": [
    "# Query the Iceberg table"
   ]
  },
  {
   "cell_type": "code",
   "execution_count": null,
   "id": "13e5b51c-892a-4877-9168-637a10a4db31",
   "metadata": {},
   "outputs": [],
   "source": [
    "df = conn.sql(f\"\"\"\n",
    "    SELECT *\n",
    "    FROM iceberg_scan('{snapshot_path}');\n",
    "\"\"\").df()\n",
    "\n",
    "df.head()"
   ]
  }
 ],
 "metadata": {
  "kernelspec": {
   "display_name": "Python 3 (ipykernel)",
   "language": "python",
   "name": "python3"
  },
  "language_info": {
   "codemirror_mode": {
    "name": "ipython",
    "version": 3
   },
   "file_extension": ".py",
   "mimetype": "text/x-python",
   "name": "python",
   "nbconvert_exporter": "python",
   "pygments_lexer": "ipython3",
   "version": "3.12.10"
  }
 },
 "nbformat": 4,
 "nbformat_minor": 5
}
