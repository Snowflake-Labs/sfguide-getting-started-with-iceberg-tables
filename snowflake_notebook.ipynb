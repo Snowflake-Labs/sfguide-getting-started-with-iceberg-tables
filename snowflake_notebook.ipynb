{
 "metadata": {
  "kernelspec": {
   "display_name": "Streamlit Notebook",
   "name": "streamlit"
  },
  "lastEditStatus": {
   "notebookId": "xobz4um6r3axq366hmzx",
   "authorId": "523813202393",
   "authorName": "SCOTTTEAL",
   "authorEmail": "s.teal726@gmail.com",
   "sessionId": "ec8c7ed8-f330-4e62-aad5-2fbe995b964f",
   "lastEditTime": 1747166241575
  }
 },
 "nbformat_minor": 5,
 "nbformat": 4,
 "cells": [
  {
   "cell_type": "code",
   "id": "3775908f-ca36-4846-8f38-5adca39217f2",
   "metadata": {
    "language": "sql",
    "name": "sql_create_wh_role_db"
   },
   "source": "CREATE WAREHOUSE iceberg_lab;\nCREATE ROLE iceberg_lab;\nCREATE DATABASE iceberg_lab;\nCREATE SCHEMA iceberg_lab;\nGRANT ALL ON DATABASE iceberg_lab TO ROLE iceberg_lab WITH GRANT OPTION;\nGRANT ALL ON SCHEMA iceberg_lab.iceberg_lab TO ROLE iceberg_lab WITH GRANT OPTION;\nGRANT ALL ON WAREHOUSE iceberg_lab TO ROLE iceberg_lab WITH GRANT OPTION;",
   "execution_count": null,
   "outputs": []
  },
  {
   "cell_type": "code",
   "id": "84a2243d-5bfe-4346-8155-0e69ed14f6ac",
   "metadata": {
    "language": "sql",
    "name": "sql_create_user"
   },
   "outputs": [],
   "source": "CREATE USER iceberg_lab\n    PASSWORD='<your desired password>',\n    LOGIN_NAME='ICEBERG_LAB',\n    MUST_CHANGE_PASSWORD=FALSE,\n    DISABLED=FALSE,\n    DEFAULT_WAREHOUSE='ICEBERG_LAB',\n    DEFAULT_NAMESPACE='ICEBERG_LAB.ICEBERG_LAB',\n    DEFAULT_ROLE='ICEBERG_LAB';",
   "execution_count": null
  },
  {
   "cell_type": "code",
   "id": "8d50cbf4-0c8d-4950-86cb-114990437ac9",
   "metadata": {
    "language": "sql",
    "name": "sql_grant_user",
    "codeCollapsed": false
   },
   "source": "GRANT ROLE iceberg_lab TO USER iceberg_lab;\nSET USERNAME=CURRENT_USER();\nGRANT ROLE iceberg_lab TO USER IDENTIFIER($USERNAME);\nGRANT ROLE accountadmin TO USER iceberg_lab;",
   "execution_count": null,
   "outputs": []
  },
  {
   "cell_type": "markdown",
   "id": "e0749f24-dd26-48aa-8579-bfd2ec9af23f",
   "metadata": {
    "name": "md_create_table",
    "collapsed": false
   },
   "source": "## Create an Iceberg Table"
  },
  {
   "cell_type": "markdown",
   "id": "637d57b9-d6fa-4f76-b1fc-cb9444e57331",
   "metadata": {
    "name": "md_create_vol",
    "collapsed": false
   },
   "source": "### Create External Volume\nBefore you create an Iceberg table, you must have an external volume. An external volume is a Snowflake object that stores information about your cloud storage locations and identity and access management (IAM) entities (for example, IAM roles). Snowflake uses an external volume to establish a connection with your cloud storage in order to access Iceberg metadata and Parquet data.\n\nTo create an external volume, complete the instructions for your cloud storage service:\n\n- [Accessing Amazon S3 using external volumes](https://docs.snowflake.com/en/user-guide/tables-iceberg-configure-external-volume-s3)\n- [Accessing Google Cloud Storage using external volumes](https://docs.snowflake.com/en/user-guide/tables-iceberg-configure-external-volume-gcs)\n- [Accessing Microsoft Azure Storage using external volumes](https://docs.snowflake.com/en/user-guide/tables-iceberg-configure-external-volume-azure)"
  },
  {
   "cell_type": "code",
   "id": "c695373e-ac74-4b62-a1f1-08206cbd5c81",
   "metadata": {
    "language": "sql",
    "name": "sql_grant_vol"
   },
   "source": "USE ROLE accountadmin;\n\nGRANT ALL ON EXTERNAL VOLUME iceberg_lab_vol TO ROLE iceberg_lab WITH GRANT OPTION;",
   "execution_count": null,
   "outputs": []
  },
  {
   "cell_type": "code",
   "id": "10692812-ed7d-43d8-9edb-b75956005e14",
   "metadata": {
    "language": "sql",
    "name": "sql_create_table",
    "codeCollapsed": false
   },
   "outputs": [],
   "source": "USE ROLE iceberg_lab;\nUSE DATABASE iceberg_lab;\nUSE SCHEMA iceberg_lab;\nCREATE OR REPLACE ICEBERG TABLE customer_iceberg (\n    c_custkey INTEGER,\n    c_name STRING,\n    c_address STRING,\n    c_nationkey INTEGER,\n    c_phone STRING,\n    c_acctbal INTEGER,\n    c_mktsegment STRING,\n    c_comment STRING\n)  \n    CATALOG='SNOWFLAKE'\n    EXTERNAL_VOLUME='iceberg_lab_vol'\n    BASE_LOCATION='iceberg_lab/iceberg_lab/customer_iceberg';",
   "execution_count": null
  },
  {
   "cell_type": "code",
   "id": "a787572a-c0ad-4359-9d47-0ec99e9d388c",
   "metadata": {
    "language": "sql",
    "name": "sql_load_data",
    "codeCollapsed": false
   },
   "outputs": [],
   "source": "INSERT INTO customer_iceberg\n  SELECT * FROM snowflake_sample_data.tpch_sf1.customer;",
   "execution_count": null
  },
  {
   "cell_type": "code",
   "id": "7d7d9eb3-b961-40ea-90f1-95da7e798c86",
   "metadata": {
    "language": "sql",
    "name": "sql_query",
    "codeCollapsed": false
   },
   "outputs": [],
   "source": "SELECT\n    *\nFROM customer_iceberg c\nINNER JOIN snowflake_sample_data.tpch_sf1.nation n\n    ON c.c_nationkey = n.n_nationkey;",
   "execution_count": null
  },
  {
   "cell_type": "code",
   "id": "c9c94a0a-7213-4ad3-8951-f802ea6fa652",
   "metadata": {
    "language": "sql",
    "name": "sql_insert",
    "codeCollapsed": false
   },
   "outputs": [],
   "source": "INSERT INTO customer_iceberg\n    SELECT\n        *\n    FROM snowflake_sample_data.tpch_sf1.customer\n    LIMIT 5;",
   "execution_count": null
  },
  {
   "cell_type": "code",
   "id": "d62c2c6c-7e26-4d6e-9928-b2e7848f3612",
   "metadata": {
    "language": "sql",
    "name": "sql_time_travel",
    "codeCollapsed": false
   },
   "outputs": [],
   "source": "SELECT\n    count(*) AS after_row_count,\n    before_row_count\nFROM customer_iceberg\nJOIN (\n        SELECT count(*) AS before_row_count\n        FROM customer_iceberg AT(OFFSET => -60)\n    )\n    ON 1=1\nGROUP BY 2;",
   "execution_count": null
  },
  {
   "cell_type": "markdown",
   "id": "faabf20b-6dd8-4081-b2d8-c4c5c5a142e6",
   "metadata": {
    "name": "md_governance",
    "collapsed": false
   },
   "source": "## Governance on Iceberg Tables"
  },
  {
   "cell_type": "code",
   "id": "29ee34f7-b860-4050-957c-2761598a6dd8",
   "metadata": {
    "language": "sql",
    "name": "sql_rap_setup"
   },
   "outputs": [],
   "source": "USE ROLE accountadmin;\nCREATE OR REPLACE ROLE tpch_us;\nSET USERNAME=CURRENT_USER();\nGRANT ROLE tpch_us TO USER IDENTIFIER($USERNAME);\nCREATE OR REPLACE ROLE tpch_intl;\nGRANT ROLE tpch_intl TO USER IDENTIFIER($USERNAME);\n\nUSE ROLE iceberg_lab;\nUSE DATABASE iceberg_lab;\nUSE SCHEMA iceberg_lab;\n\nCREATE OR REPLACE ROW ACCESS POLICY rap_nation\nAS (nation_key number) RETURNS BOOLEAN ->\n  ('TPCH_US' = current_role() and nation_key = 24) OR\n  ('TPCH_INTL' = current_role() and nation_key != 24)\n;\n\nALTER ICEBERG TABLE customer_iceberg\nADD ROW ACCESS POLICY rap_nation ON (c_nationkey);\n\nGRANT ALL ON DATABASE iceberg_lab TO ROLE tpch_intl;\nGRANT ALL ON SCHEMA iceberg_lab.iceberg_lab TO ROLE tpch_intl;\nGRANT ALL ON ICEBERG TABLE iceberg_lab.iceberg_lab.customer_iceberg TO ROLE tpch_intl;\nGRANT ALL ON DATABASE iceberg_lab TO ROLE tpch_us;\nGRANT ALL ON SCHEMA iceberg_lab.iceberg_lab TO ROLE tpch_us;\nGRANT ALL ON ICEBERG TABLE iceberg_lab.iceberg_lab.customer_iceberg TO ROLE tpch_us;\nGRANT USAGE ON EXTERNAL VOLUME iceberg_lab_vol TO ROLE tpch_intl;\nGRANT USAGE ON EXTERNAL VOLUME iceberg_lab_vol TO ROLE tpch_us;\nGRANT USAGE ON WAREHOUSE iceberg_lab TO ROLE tpch_us;\nGRANT USAGE ON WAREHOUSE iceberg_lab TO ROLE tpch_intl;",
   "execution_count": null
  },
  {
   "cell_type": "code",
   "id": "c7d46796-9cab-4c47-a444-5ec297eecdd4",
   "metadata": {
    "language": "sql",
    "name": "sql_rap_intl",
    "codeCollapsed": false
   },
   "outputs": [],
   "source": "USE ROLE tpch_intl;\nUSE WAREHOUSE iceberg_lab;\nSELECT\n    count(*)\nFROM iceberg_lab.iceberg_lab.customer_iceberg;",
   "execution_count": null
  },
  {
   "cell_type": "code",
   "id": "676c7442-b884-4b6e-bee0-e4cbc7838b41",
   "metadata": {
    "language": "sql",
    "name": "sql_rap_us",
    "codeCollapsed": false
   },
   "outputs": [],
   "source": "USE ROLE tpch_us;\nUSE WAREHOUSE iceberg_lab;\nSELECT\n    count(*)\nFROM iceberg_lab.iceberg_lab.customer_iceberg;",
   "execution_count": null
  },
  {
   "cell_type": "code",
   "id": "14e2bdb6-be4e-4379-9f78-54f7e2df11cf",
   "metadata": {
    "language": "sql",
    "name": "sql_ddm_setup",
    "codeCollapsed": false
   },
   "outputs": [],
   "source": "USE ROLE accountadmin;\nCREATE OR REPLACE ROLE tpch_analyst;\nSET USERNAME=CURRENT_USER();\nGRANT ROLE tpch_analyst TO USER IDENTIFIER($USERNAME);\n\nUSE ROLE iceberg_lab;\nALTER ROW ACCESS POLICY rap_nation\nSET body ->\n  ('TPCH_US' = current_role() and nation_key = 24) or\n  ('TPCH_INTL' = current_role() and nation_key != 24) or\n  ('TPCH_ANALYST' = current_role()) or \n  ('ICEBERG_LAB' = current_role())\n;\n\nGRANT ALL ON DATABASE iceberg_lab TO ROLE tpch_analyst;\nGRANT ALL ON SCHEMA iceberg_lab.iceberg_lab TO ROLE tpch_analyst;\nGRANT ALL ON TABLE iceberg_lab.iceberg_lab.customer_iceberg TO ROLE tpch_analyst;\nGRANT USAGE ON WAREHOUSE iceberg_lab TO ROLE tpch_analyst;\nGRANT USAGE ON EXTERNAL VOLUME iceberg_lab_vol TO ROLE tpch_analyst;\nUSE ROLE iceberg_lab;\n\nCREATE OR REPLACE MASKING POLICY pii_mask AS (val string) RETURNS string ->\n    CASE\n        WHEN 'TPCH_ANALYST' = current_role() THEN '*********'\n        ELSE val\n    END;\n\nALTER ICEBERG TABLE customer_iceberg MODIFY COLUMN c_name SET MASKING POLICY pii_mask;\nALTER ICEBERG TABLE customer_iceberg MODIFY COLUMN c_address SET MASKING POLICY pii_mask;\nALTER ICEBERG TABLE customer_iceberg MODIFY COLUMN c_phone SET MASKING POLICY pii_mask;",
   "execution_count": null
  },
  {
   "cell_type": "code",
   "id": "f66820ed-d337-4add-9e29-25076806492e",
   "metadata": {
    "language": "sql",
    "name": "sql_ddm"
   },
   "outputs": [],
   "source": "USE ROLE tpch_analyst;\nSELECT\n    *\nFROM customer_iceberg;",
   "execution_count": null
  },
  {
   "cell_type": "markdown",
   "id": "7d19808b-3e3f-4674-9b5d-cec85f0765c7",
   "metadata": {
    "name": "md_transform",
    "collapsed": false
   },
   "source": "## Transform Iceberg Tables"
  },
  {
   "cell_type": "code",
   "id": "48d2d678-2038-4d0c-ac39-a8babed25bad",
   "metadata": {
    "language": "sql",
    "name": "sql_base_tables"
   },
   "outputs": [],
   "source": "USE ROLE iceberg_lab;\nUSE DATABASE iceberg_lab;\nUSE SCHEMA iceberg_lab;\n\nCREATE OR REPLACE ICEBERG TABLE orders_iceberg \n    CATALOG = 'SNOWFLAKE'\n    EXTERNAL_VOLUME = 'iceberg_lab_vol'\n    BASE_LOCATION = 'iceberg_lab/iceberg_lab/orders_iceberg'\n    AS\n    SELECT * FROM SNOWFLAKE_SAMPLE_DATA.TPCH_SF1.ORDERS;\n\nCREATE OR REPLACE ICEBERG TABLE nation_iceberg \n    CATALOG = 'SNOWFLAKE'\n    EXTERNAL_VOLUME = 'iceberg_lab_vol'\n    BASE_LOCATION = 'iceberg_lab/iceberg_lab/nation_iceberg'\n    AS\n    SELECT * FROM SNOWFLAKE_SAMPLE_DATA.TPCH_SF1.NATION;",
   "execution_count": null
  },
  {
   "cell_type": "code",
   "id": "bb8cc0ec-d107-481b-9aad-8f10bef63f0a",
   "metadata": {
    "language": "sql",
    "name": "sql_create_dlt"
   },
   "outputs": [],
   "source": "CREATE OR REPLACE DYNAMIC ICEBERG TABLE nation_orders_iceberg\n    TARGET_LAG = '1 minute'\n    WAREHOUSE = ICEBERG_LAB\n    CATALOG = 'SNOWFLAKE'\n    EXTERNAL_VOLUME = 'iceberg_lab_vol'\n    BASE_LOCATION = 'iceberg_lab/iceberg_lab/nation_orders_iceberg'\n    AS\n    SELECT\n        n.n_regionkey AS regionkey,\n        n.n_nationkey AS nationkey,\n        n.n_name AS nation,\n        c.c_custkey AS custkey,\n        COUNT(o.o_orderkey) AS order_count,\n        SUM(o.o_totalprice) AS total_price\n    FROM ICEBERG_LAB.ICEBERG_LAB.ORDERS_ICEBERG o\n    JOIN ICEBERG_LAB.ICEBERG_LAB.CUSTOMER_ICEBERG c\n        ON o.o_custkey = c.c_custkey\n    JOIN ICEBERG_LAB.ICEBERG_LAB.NATION_ICEBERG n\n        ON c.c_nationkey = n.n_nationkey\n    GROUP BY\n        n.n_regionkey,\n        n.n_nationkey,\n        n.n_name,\n        c.c_custkey\n    ;",
   "execution_count": null
  },
  {
   "cell_type": "code",
   "id": "2d684d62-738c-44fb-aace-12e1d0f65dd8",
   "metadata": {
    "language": "python",
    "name": "py_snowpark"
   },
   "outputs": [],
   "source": "from snowflake.snowpark.context import get_active_session\nfrom snowflake.snowpark.functions import col, rank\nfrom snowflake.snowpark.window import Window\n\nsession = get_active_session()\n\ndb = \"iceberg_lab\"\nschema = \"iceberg_lab\"\n\n# Load the input table\ndf = session.table(\"ICEBERG_LAB.ICEBERG_LAB.NATION_ORDERS_ICEBERG\")\n\n# Define a window partitioned by nation, ordered by total_price descending\nnation_window = Window.partition_by(\"nation\").order_by(col(\"total_price\").desc())\n\n# Rank customers within each nation\ndf_ranked = df.with_column(\"nation_rank\", rank().over(nation_window))\n\n# Flag top 3 customers per nation as VIPs\ndf_vips = df_ranked.with_column(\"is_vip\", (col(\"nation_rank\") <= 3))\n\n# Show the results\ndf_vips = df_vips.select(\"nationkey\", \"custkey\", \"total_price\", \"nation_rank\", \"is_vip\")\n\noutput_table = \"customer_vips_iceberg\"\n\niceberg_config = {\n    \"external_volume\": \"iceberg_lab_vol\",\n    \"catalog\": \"snowflake\",\n    \"base_location\": f\"{db}/{schema}/{output_table}\",\n    \"storage_serialization_policy\": \"COMPATIBLE\",\n}\n\ndf_vips.show()\ndf_vips.write.mode(\"overwrite\").save_as_table(f\"{output_table}\", iceberg_config=iceberg_config)",
   "execution_count": null
  },
  {
   "cell_type": "markdown",
   "id": "f53dded2-e0bd-4295-9ed2-486314f6a581",
   "metadata": {
    "name": "md_sharing",
    "collapsed": false
   },
   "source": "## Sharing Iceberg Tables"
  },
  {
   "cell_type": "code",
   "id": "2f79f7a5-c3ae-49a7-a816-b8dbf45de36f",
   "metadata": {
    "language": "sql",
    "name": "sql_create_reader"
   },
   "outputs": [],
   "source": "USE ROLE accountadmin;\nGRANT CREATE ACCOUNT ON ACCOUNT TO ROLE iceberg_lab;\nUSE ROLE ICEBERG_LAB;",
   "execution_count": null
  },
  {
   "cell_type": "code",
   "id": "6aa6128b-bc5c-4d47-9160-c1afed459dfc",
   "metadata": {
    "language": "sql",
    "name": "sql_create_sv"
   },
   "outputs": [],
   "source": "USE ROLE iceberg_lab;\nCREATE OR REPLACE SECURE VIEW nation_orders_v AS\nSELECT\n    nation,\n    SUM(order_count) as order_count,\n    SUM(total_price) as total_price\nFROM nation_orders_iceberg\nGROUP BY nation;",
   "execution_count": null
  },
  {
   "cell_type": "code",
   "id": "1374b6cd-7d42-45dc-aad6-e556caeb3d0f",
   "metadata": {
    "language": "sql",
    "name": "sql_grant_share"
   },
   "outputs": [],
   "source": "USE ROLE accountadmin;\nGRANT CREATE SHARE ON ACCOUNT TO ROLE iceberg_lab;\nUSE ROLE iceberg_lab;",
   "execution_count": null
  },
  {
   "cell_type": "code",
   "id": "d434eb2e-5894-4de3-9dd9-8eadf6ea718f",
   "metadata": {
    "language": "sql",
    "name": "sql_reader_setup"
   },
   "outputs": [],
   "source": "USE ROLE accountadmin;\n\nCREATE OR REPLACE WAREHOUSE iceberg_lab_reader \n    WAREHOUSE_SIZE = XSMALL\n    AUTO_SUSPEND = 1\n    AUTO_RESUME = TRUE\n    INITIALLY_SUSPENDED = TRUE;",
   "execution_count": null
  },
  {
   "cell_type": "code",
   "id": "0f42fb23-dec6-4268-9fe8-cef7eabb0d92",
   "metadata": {
    "language": "sql",
    "name": "sql_reader_read_share"
   },
   "outputs": [],
   "source": "SELECT *\nFROM reader_iceberg_lab_nation_orders_shared_data.iceberg_lab.nation_orders_v\nORDER BY order_count DESC;",
   "execution_count": null
  },
  {
   "cell_type": "markdown",
   "id": "5460bf7b-da18-4928-b084-08e754f8fb89",
   "metadata": {
    "name": "md_cleanup",
    "collapsed": false
   },
   "source": "## Cleanup"
  },
  {
   "cell_type": "code",
   "id": "1391d1e9-9114-45b5-9775-da7152567089",
   "metadata": {
    "language": "sql",
    "name": "sql_cleanup"
   },
   "outputs": [],
   "source": "USE ROLE iceberg_lab;\nDROP SHARE iceberg_lab_nation_orders_shared_data;\nDROP DATABASE iceberg_lab;\nUSE ROLE accountadmin;\nDROP EXTERNAL VOLUME iceberg_lab_vol;\nDROP USER iceberg_lab;\nDROP ROLE iceberg_lab;\nDROP ROLE tpch_us;\nDROP ROLE tpch_intl;\nDROP ROLE tpch_analyst;\nDROP WAREHOUSE iceberg_lab;",
   "execution_count": null
  }
 ]
}
